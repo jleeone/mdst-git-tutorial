{
 "cells": [
  {
   "cell_type": "markdown",
   "metadata": {},
   "source": [
    "# Checkpoint 1"
   ]
  },
  {
   "cell_type": "markdown",
   "metadata": {},
   "source": [
    "Reminder: \n",
    "\n",
    "- You are being evaluated for compeletion and effort in this checkpoint. \n",
    "- Avoid manual labor / hard coding as much as possible, everything we've taught you so far are meant to simplify and automate your process."
   ]
  },
  {
   "cell_type": "markdown",
   "metadata": {},
   "source": [
    "We will be working with the same `states_edu.csv` that you should already be familiar with from the tutorial.\n",
    "\n",
    "We investigated Grade 8 reading score in the tutorial. For this checkpoint, you are asked to investigate another test. Here's an overview:\n",
    "\n",
    "* Choose a specific response variable to focus on\n",
    ">Grade 4 Math, Grade 4 Reading, Grade 8 Math\n",
    "* Pick or create features to use\n",
    ">Will all the features be useful in predicting test score? Are some more important than others? Should you standardize, bin, or scale the data?\n",
    "* Explore the data as it relates to that test\n",
    ">Create at least 2 visualizations (graphs), each with a caption describing the graph and what it tells us about the data\n",
    "* Create training and testing data\n",
    ">Do you want to train on all the data? Only data from the last 10 years? Only Michigan data?\n",
    "* Train a ML model to predict outcome \n",
    ">Define what you want to predict, and pick a model in sklearn to use (see sklearn <a href=\"https://scikit-learn.org/stable/modules/linear_model.html\">regressors</a>.\n",
    "* Summarize your findings\n",
    ">Write a 1 paragraph summary of what you did and make a recommendation about if and how student performance can be predicted\n",
    "\n",
    "Include comments throughout your code! Every cleanup and preprocessing task should be documented.\n",
    "\n",
    "Of course, if you're finding this assignment interesting (and we really hope you do!), you are welcome to do more than the requirements! For example, you may want to see if expenditure affects 4th graders more than 8th graders. Maybe you want to look into the extended version of this dataset and see how factors like sex and race are involved. You can include all your work in this notebook when you turn it in -- just always make sure you explain what you did and interpret your results. Good luck!"
   ]
  },
  {
   "cell_type": "markdown",
   "metadata": {},
   "source": [
    "<h2> Data Cleanup </h2>\n",
    "\n",
    "Import `numpy`, `pandas`, and `matplotlib`.\n",
    "\n",
    "(Feel free to import other libraries!)"
   ]
  },
  {
   "cell_type": "code",
   "execution_count": 176,
   "metadata": {},
   "outputs": [],
   "source": [
    "import pandas as pd\n",
    "import numpy as np\n",
    "import matplotlib.pyplot as plt"
   ]
  },
  {
   "cell_type": "markdown",
   "metadata": {},
   "source": [
    "Load in the \"states_edu.csv\" dataset and take a look at the head of the data"
   ]
  },
  {
   "cell_type": "code",
   "execution_count": 177,
   "metadata": {},
   "outputs": [
    {
     "data": {
      "text/html": [
       "<div>\n",
       "<style scoped>\n",
       "    .dataframe tbody tr th:only-of-type {\n",
       "        vertical-align: middle;\n",
       "    }\n",
       "\n",
       "    .dataframe tbody tr th {\n",
       "        vertical-align: top;\n",
       "    }\n",
       "\n",
       "    .dataframe thead th {\n",
       "        text-align: right;\n",
       "    }\n",
       "</style>\n",
       "<table border=\"1\" class=\"dataframe\">\n",
       "  <thead>\n",
       "    <tr style=\"text-align: right;\">\n",
       "      <th></th>\n",
       "      <th>PRIMARY_KEY</th>\n",
       "      <th>STATE</th>\n",
       "      <th>YEAR</th>\n",
       "      <th>ENROLL</th>\n",
       "      <th>TOTAL_REVENUE</th>\n",
       "      <th>FEDERAL_REVENUE</th>\n",
       "      <th>STATE_REVENUE</th>\n",
       "      <th>LOCAL_REVENUE</th>\n",
       "      <th>TOTAL_EXPENDITURE</th>\n",
       "      <th>INSTRUCTION_EXPENDITURE</th>\n",
       "      <th>...</th>\n",
       "      <th>GRADES_4_G</th>\n",
       "      <th>GRADES_8_G</th>\n",
       "      <th>GRADES_12_G</th>\n",
       "      <th>GRADES_1_8_G</th>\n",
       "      <th>GRADES_9_12_G</th>\n",
       "      <th>GRADES_ALL_G</th>\n",
       "      <th>AVG_MATH_4_SCORE</th>\n",
       "      <th>AVG_MATH_8_SCORE</th>\n",
       "      <th>AVG_READING_4_SCORE</th>\n",
       "      <th>AVG_READING_8_SCORE</th>\n",
       "    </tr>\n",
       "  </thead>\n",
       "  <tbody>\n",
       "    <tr>\n",
       "      <th>0</th>\n",
       "      <td>1992_ALABAMA</td>\n",
       "      <td>ALABAMA</td>\n",
       "      <td>1992</td>\n",
       "      <td>NaN</td>\n",
       "      <td>2678885.0</td>\n",
       "      <td>304177.0</td>\n",
       "      <td>1659028.0</td>\n",
       "      <td>715680.0</td>\n",
       "      <td>2653798.0</td>\n",
       "      <td>1481703.0</td>\n",
       "      <td>...</td>\n",
       "      <td>57948.0</td>\n",
       "      <td>58025.0</td>\n",
       "      <td>41167.0</td>\n",
       "      <td>NaN</td>\n",
       "      <td>NaN</td>\n",
       "      <td>731634.0</td>\n",
       "      <td>208.0</td>\n",
       "      <td>252.0</td>\n",
       "      <td>207.0</td>\n",
       "      <td>NaN</td>\n",
       "    </tr>\n",
       "    <tr>\n",
       "      <th>1</th>\n",
       "      <td>1992_ALASKA</td>\n",
       "      <td>ALASKA</td>\n",
       "      <td>1992</td>\n",
       "      <td>NaN</td>\n",
       "      <td>1049591.0</td>\n",
       "      <td>106780.0</td>\n",
       "      <td>720711.0</td>\n",
       "      <td>222100.0</td>\n",
       "      <td>972488.0</td>\n",
       "      <td>498362.0</td>\n",
       "      <td>...</td>\n",
       "      <td>9748.0</td>\n",
       "      <td>8789.0</td>\n",
       "      <td>6714.0</td>\n",
       "      <td>NaN</td>\n",
       "      <td>NaN</td>\n",
       "      <td>122487.0</td>\n",
       "      <td>NaN</td>\n",
       "      <td>NaN</td>\n",
       "      <td>NaN</td>\n",
       "      <td>NaN</td>\n",
       "    </tr>\n",
       "    <tr>\n",
       "      <th>2</th>\n",
       "      <td>1992_ARIZONA</td>\n",
       "      <td>ARIZONA</td>\n",
       "      <td>1992</td>\n",
       "      <td>NaN</td>\n",
       "      <td>3258079.0</td>\n",
       "      <td>297888.0</td>\n",
       "      <td>1369815.0</td>\n",
       "      <td>1590376.0</td>\n",
       "      <td>3401580.0</td>\n",
       "      <td>1435908.0</td>\n",
       "      <td>...</td>\n",
       "      <td>55433.0</td>\n",
       "      <td>49081.0</td>\n",
       "      <td>37410.0</td>\n",
       "      <td>NaN</td>\n",
       "      <td>NaN</td>\n",
       "      <td>673477.0</td>\n",
       "      <td>215.0</td>\n",
       "      <td>265.0</td>\n",
       "      <td>209.0</td>\n",
       "      <td>NaN</td>\n",
       "    </tr>\n",
       "    <tr>\n",
       "      <th>3</th>\n",
       "      <td>1992_ARKANSAS</td>\n",
       "      <td>ARKANSAS</td>\n",
       "      <td>1992</td>\n",
       "      <td>NaN</td>\n",
       "      <td>1711959.0</td>\n",
       "      <td>178571.0</td>\n",
       "      <td>958785.0</td>\n",
       "      <td>574603.0</td>\n",
       "      <td>1743022.0</td>\n",
       "      <td>964323.0</td>\n",
       "      <td>...</td>\n",
       "      <td>34632.0</td>\n",
       "      <td>36011.0</td>\n",
       "      <td>27651.0</td>\n",
       "      <td>NaN</td>\n",
       "      <td>NaN</td>\n",
       "      <td>441490.0</td>\n",
       "      <td>210.0</td>\n",
       "      <td>256.0</td>\n",
       "      <td>211.0</td>\n",
       "      <td>NaN</td>\n",
       "    </tr>\n",
       "    <tr>\n",
       "      <th>4</th>\n",
       "      <td>1992_CALIFORNIA</td>\n",
       "      <td>CALIFORNIA</td>\n",
       "      <td>1992</td>\n",
       "      <td>NaN</td>\n",
       "      <td>26260025.0</td>\n",
       "      <td>2072470.0</td>\n",
       "      <td>16546514.0</td>\n",
       "      <td>7641041.0</td>\n",
       "      <td>27138832.0</td>\n",
       "      <td>14358922.0</td>\n",
       "      <td>...</td>\n",
       "      <td>418418.0</td>\n",
       "      <td>363296.0</td>\n",
       "      <td>270675.0</td>\n",
       "      <td>NaN</td>\n",
       "      <td>NaN</td>\n",
       "      <td>5254844.0</td>\n",
       "      <td>208.0</td>\n",
       "      <td>261.0</td>\n",
       "      <td>202.0</td>\n",
       "      <td>NaN</td>\n",
       "    </tr>\n",
       "  </tbody>\n",
       "</table>\n",
       "<p>5 rows × 25 columns</p>\n",
       "</div>"
      ],
      "text/plain": [
       "       PRIMARY_KEY       STATE  YEAR  ENROLL  TOTAL_REVENUE  FEDERAL_REVENUE  \\\n",
       "0     1992_ALABAMA     ALABAMA  1992     NaN      2678885.0         304177.0   \n",
       "1      1992_ALASKA      ALASKA  1992     NaN      1049591.0         106780.0   \n",
       "2     1992_ARIZONA     ARIZONA  1992     NaN      3258079.0         297888.0   \n",
       "3    1992_ARKANSAS    ARKANSAS  1992     NaN      1711959.0         178571.0   \n",
       "4  1992_CALIFORNIA  CALIFORNIA  1992     NaN     26260025.0        2072470.0   \n",
       "\n",
       "   STATE_REVENUE  LOCAL_REVENUE  TOTAL_EXPENDITURE  INSTRUCTION_EXPENDITURE  \\\n",
       "0      1659028.0       715680.0          2653798.0                1481703.0   \n",
       "1       720711.0       222100.0           972488.0                 498362.0   \n",
       "2      1369815.0      1590376.0          3401580.0                1435908.0   \n",
       "3       958785.0       574603.0          1743022.0                 964323.0   \n",
       "4     16546514.0      7641041.0         27138832.0               14358922.0   \n",
       "\n",
       "   ...  GRADES_4_G  GRADES_8_G  GRADES_12_G  GRADES_1_8_G  GRADES_9_12_G  \\\n",
       "0  ...     57948.0     58025.0      41167.0           NaN            NaN   \n",
       "1  ...      9748.0      8789.0       6714.0           NaN            NaN   \n",
       "2  ...     55433.0     49081.0      37410.0           NaN            NaN   \n",
       "3  ...     34632.0     36011.0      27651.0           NaN            NaN   \n",
       "4  ...    418418.0    363296.0     270675.0           NaN            NaN   \n",
       "\n",
       "   GRADES_ALL_G  AVG_MATH_4_SCORE  AVG_MATH_8_SCORE  AVG_READING_4_SCORE  \\\n",
       "0      731634.0             208.0             252.0                207.0   \n",
       "1      122487.0               NaN               NaN                  NaN   \n",
       "2      673477.0             215.0             265.0                209.0   \n",
       "3      441490.0             210.0             256.0                211.0   \n",
       "4     5254844.0             208.0             261.0                202.0   \n",
       "\n",
       "   AVG_READING_8_SCORE  \n",
       "0                  NaN  \n",
       "1                  NaN  \n",
       "2                  NaN  \n",
       "3                  NaN  \n",
       "4                  NaN  \n",
       "\n",
       "[5 rows x 25 columns]"
      ]
     },
     "execution_count": 177,
     "metadata": {},
     "output_type": "execute_result"
    }
   ],
   "source": [
    "df = pd.read_csv('../data/states_edu.csv')\n",
    "df.head()"
   ]
  },
  {
   "cell_type": "markdown",
   "metadata": {},
   "source": [
    "You should always familiarize yourself with what each column in the dataframe represents. Read about the states_edu dataset here: https://www.kaggle.com/noriuk/us-education-datasets-unification-project"
   ]
  },
  {
   "cell_type": "markdown",
   "metadata": {},
   "source": [
    "Use this space to rename columns, deal with missing data, etc. _(optional)_"
   ]
  },
  {
   "cell_type": "code",
   "execution_count": 178,
   "metadata": {},
   "outputs": [],
   "source": [
    "#renaming enrollment totals by category columns\n",
    "df.rename({\n",
    "    'GRADES_PK_G':'NUM_ENROLL_PREK',\n",
    "    'GRADES_KG_G':'NUM_ENROLL_KINDER',\n",
    "    'GRADES_4_G':'NUM_ENROLL_4',\n",
    "    'GRADES_8_G':'NUM_ENROLL_8',\n",
    "    'GRADES_12_G':'NUM_ENROLL_12',\n",
    "    'GRADES_1_8_G':'NUM_ENROLL_PRIMARY',\n",
    "    'GRADES_9_12_G':'NUM_ENROLL_HS',\n",
    "    'GRADES_ALL_G':'NUM_ENROLL_ALL',\n",
    "    'ENROLL':'NUM_ENROLL_ALL_EST'\n",
    "    },\n",
    "    axis=1,inplace=True)\n",
    "#inplace return copy of dataframe\n",
    "\n"
   ]
  },
  {
   "cell_type": "code",
   "execution_count": 179,
   "metadata": {},
   "outputs": [
    {
     "data": {
      "text/plain": [
       "PRIMARY_KEY                        0\n",
       "STATE                              0\n",
       "YEAR                               0\n",
       "NUM_ENROLL_ALL_EST               491\n",
       "TOTAL_REVENUE                    440\n",
       "FEDERAL_REVENUE                  440\n",
       "STATE_REVENUE                    440\n",
       "LOCAL_REVENUE                    440\n",
       "TOTAL_EXPENDITURE                440\n",
       "INSTRUCTION_EXPENDITURE          440\n",
       "SUPPORT_SERVICES_EXPENDITURE     440\n",
       "OTHER_EXPENDITURE                491\n",
       "CAPITAL_OUTLAY_EXPENDITURE       440\n",
       "NUM_ENROLL_PREK                  173\n",
       "NUM_ENROLL_KINDER                 83\n",
       "NUM_ENROLL_4                      83\n",
       "NUM_ENROLL_8                      83\n",
       "NUM_ENROLL_12                     83\n",
       "NUM_ENROLL_PRIMARY               695\n",
       "NUM_ENROLL_HS                    644\n",
       "NUM_ENROLL_ALL                    83\n",
       "AVG_MATH_4_SCORE                1150\n",
       "AVG_MATH_8_SCORE                1113\n",
       "AVG_READING_4_SCORE             1065\n",
       "AVG_READING_8_SCORE             1153\n",
       "dtype: int64"
      ]
     },
     "execution_count": 179,
     "metadata": {},
     "output_type": "execute_result"
    }
   ],
   "source": [
    "# checking number of missing values of each column\n",
    "df.isna().sum()"
   ]
  },
  {
   "cell_type": "code",
   "execution_count": 180,
   "metadata": {},
   "outputs": [
    {
     "data": {
      "text/plain": [
       "<AxesSubplot: title={'center': 'Grade 4 Math Score Distribution'}, ylabel='Density'>"
      ]
     },
     "execution_count": 180,
     "metadata": {},
     "output_type": "execute_result"
    },
    {
     "data": {
      "image/png": "[encoded data removed]",
      "text/plain": [
       "<Figure size 640x480 with 1 Axes>"
      ]
     },
     "metadata": {},
     "output_type": "display_data"
    }
   ],
   "source": [
    "\n",
    "#checking to see if using the median or mean will be a more appropriate method to replace missing values with a graph\n",
    "df[\"AVG_MATH_4_SCORE\"].plot.kde(title=\"Grade 4 Math Score Distribution\")"
   ]
  },
  {
   "cell_type": "code",
   "execution_count": 181,
   "metadata": {},
   "outputs": [],
   "source": [
    "#because the data is skewed left I will use the column's median to fill in missing values\n",
    "df[\"AVG_MATH_4_SCORE\"].fillna(df[\"AVG_MATH_4_SCORE\"].median(), inplace=True)"
   ]
  },
  {
   "cell_type": "code",
   "execution_count": 182,
   "metadata": {},
   "outputs": [
    {
     "data": {
      "text/plain": [
       "NUM_ENROLL_PREK       False\n",
       "NUM_ENROLL_PRIMARY    False\n",
       "NUM_ENROLL_HS         False\n",
       "NUM_ENROLL_ALL_EST    False\n",
       "dtype: bool"
      ]
     },
     "execution_count": 182,
     "metadata": {},
     "output_type": "execute_result"
    }
   ],
   "source": [
    "#data missing in NUM_ENROLL_ALL is also missing all other enrollment data\n",
    "df[df[\"NUM_ENROLL_ALL\"].isna()][['NUM_ENROLL_PREK','NUM_ENROLL_PRIMARY','NUM_ENROLL_HS','NUM_ENROLL_ALL_EST']].notna().any()"
   ]
  },
  {
   "cell_type": "code",
   "execution_count": 183,
   "metadata": {},
   "outputs": [
    {
     "data": {
      "text/plain": [
       "408"
      ]
     },
     "execution_count": 183,
     "metadata": {},
     "output_type": "execute_result"
    }
   ],
   "source": [
    "# there are rows with enrollment estimates in rows missing non-estimate enrollment total\n",
    "df[df.NUM_ENROLL_ALL_EST.isna()][\"NUM_ENROLL_ALL\"].notna().sum()"
   ]
  },
  {
   "cell_type": "code",
   "execution_count": 184,
   "metadata": {},
   "outputs": [
    {
     "data": {
      "text/plain": [
       "count    1224.000000\n",
       "mean        0.026646\n",
       "std         0.054345\n",
       "min        -0.096404\n",
       "25%         0.004408\n",
       "50%         0.014764\n",
       "75%         0.030539\n",
       "max         0.482156\n",
       "dtype: float64"
      ]
     },
     "execution_count": 184,
     "metadata": {},
     "output_type": "execute_result"
    }
   ],
   "source": [
    "#checking to see if average error between estimated and actual enrollment is small enough to fill in missing NUM_ENROLL_ALL with enrollment estimates\n",
    "((df[\"NUM_ENROLL_ALL\"] - df[\"NUM_ENROLL_ALL_EST\"])/df[\"NUM_ENROLL_ALL\"]).describe()"
   ]
  },
  {
   "cell_type": "code",
   "execution_count": 185,
   "metadata": {},
   "outputs": [],
   "source": [
    "#since the average error is ~2%, I will use it to fill in the missing estimates\n",
    "df[\"NUM_ENROLL_ALL_EST\"] = df[\"NUM_ENROLL_ALL_EST\"].fillna(df[\"NUM_ENROLL_ALL\"])"
   ]
  },
  {
   "cell_type": "markdown",
   "metadata": {},
   "source": [
    "<h2>Exploratory Data Analysis (EDA) </h2>"
   ]
  },
  {
   "cell_type": "markdown",
   "metadata": {},
   "source": [
    "Chosen Outcome Variable for Test: *Grade 4 Math*"
   ]
  },
  {
   "cell_type": "markdown",
   "metadata": {},
   "source": [
    "How many years of data are logged in our dataset? "
   ]
  },
  {
   "cell_type": "code",
   "execution_count": 186,
   "metadata": {},
   "outputs": [
    {
     "data": {
      "text/plain": [
       "33"
      ]
     },
     "execution_count": 186,
     "metadata": {},
     "output_type": "execute_result"
    }
   ],
   "source": [
    "#getting number of unique years\n",
    "df[\"YEAR\"].nunique()"
   ]
  },
  {
   "cell_type": "markdown",
   "metadata": {},
   "source": [
    "Let's compare Michigan to Ohio. Which state has the higher average outcome score across all years?"
   ]
  },
  {
   "cell_type": "code",
   "execution_count": 187,
   "metadata": {},
   "outputs": [
    {
     "data": {
      "text/plain": [
       "STATE\n",
       "ALABAMA                 234.030303\n",
       "ALASKA                  237.121212\n",
       "ARIZONA                 235.636364\n",
       "ARKANSAS                235.848485\n",
       "CALIFORNIA              234.636364\n",
       "COLORADO                238.424242\n",
       "CONNECTICUT             238.636364\n",
       "DELAWARE                237.757576\n",
       "DISTRICT_OF_COLUMBIA    230.848485\n",
       "DODEA                   240.250000\n",
       "FLORIDA                 238.242424\n",
       "GEORGIA                 236.181818\n",
       "HAWAII                  236.060606\n",
       "IDAHO                   237.666667\n",
       "ILLINOIS                237.212121\n",
       "INDIANA                 239.060606\n",
       "IOWA                    238.696970\n",
       "KANSAS                  239.393939\n",
       "KENTUCKY                236.545455\n",
       "LOUISIANA               234.212121\n",
       "MAINE                   238.666667\n",
       "MARYLAND                237.606061\n",
       "MASSACHUSETTS           240.666667\n",
       "MICHIGAN                236.787879\n",
       "MINNESOTA               240.333333\n",
       "MISSISSIPPI             234.090909\n",
       "MISSOURI                237.363636\n",
       "MONTANA                 238.727273\n",
       "NATIONAL                234.625000\n",
       "NEBRASKA                238.000000\n",
       "NEVADA                  236.181818\n",
       "NEW_HAMPSHIRE           240.515152\n",
       "NEW_JERSEY              239.818182\n",
       "NEW_MEXICO              234.090909\n",
       "NEW_YORK                237.121212\n",
       "NORTH_CAROLINA          238.303030\n",
       "NORTH_DAKOTA            239.060606\n",
       "OHIO                    238.484848\n",
       "OKLAHOMA                236.575758\n",
       "OREGON                  237.272727\n",
       "PENNSYLVANIA            238.848485\n",
       "RHODE_ISLAND            236.696970\n",
       "SOUTH_CAROLINA          236.272727\n",
       "SOUTH_DAKOTA            238.757576\n",
       "TENNESSEE               235.848485\n",
       "TEXAS                   238.121212\n",
       "UTAH                    238.030303\n",
       "VERMONT                 239.515152\n",
       "VIRGINIA                238.969697\n",
       "WASHINGTON              239.181818\n",
       "WEST_VIRGINIA           235.727273\n",
       "WISCONSIN               238.909091\n",
       "WYOMING                 239.151515\n",
       "Name: AVG_MATH_4_SCORE, dtype: float64"
      ]
     },
     "execution_count": 187,
     "metadata": {},
     "output_type": "execute_result"
    }
   ],
   "source": [
    "#getting the average math score for 4th grade by state\n",
    "df.groupby('STATE')[\"AVG_MATH_4_SCORE\"].mean()"
   ]
  },
  {
   "cell_type": "markdown",
   "metadata": {},
   "source": [
    "236.787879 < 238.484848 so Ohio has a higher average outcome across all years\n",
    "Ohio"
   ]
  },
  {
   "cell_type": "markdown",
   "metadata": {},
   "source": [
    "Find the average for your outcome score across all states in 2019"
   ]
  },
  {
   "cell_type": "code",
   "execution_count": 189,
   "metadata": {},
   "outputs": [
    {
     "data": {
      "text/plain": [
       "YEAR\n",
       "1986    238.000000\n",
       "1987    238.000000\n",
       "1988    238.000000\n",
       "1989    238.000000\n",
       "1990    237.528302\n",
       "1991    238.000000\n",
       "1992    222.113208\n",
       "1993    238.000000\n",
       "1994    238.000000\n",
       "1995    238.000000\n",
       "1996    237.735849\n",
       "1997    238.000000\n",
       "1998    238.000000\n",
       "1999    238.000000\n",
       "2000    226.622642\n",
       "2001    238.000000\n",
       "2002    238.000000\n",
       "2003    234.000000\n",
       "2004    238.000000\n",
       "2005    237.169811\n",
       "2006    238.000000\n",
       "2007    239.207547\n",
       "2008    238.000000\n",
       "2009    239.547170\n",
       "2010    238.000000\n",
       "2011    240.490566\n",
       "2012    238.000000\n",
       "2013    241.962264\n",
       "2014    238.000000\n",
       "2015    240.415094\n",
       "2016    238.000000\n",
       "2017    239.433962\n",
       "2019    239.943396\n",
       "Name: AVG_MATH_4_SCORE, dtype: float64"
      ]
     },
     "execution_count": 189,
     "metadata": {},
     "output_type": "execute_result"
    }
   ],
   "source": [
    "#creating an object that groups the original dataframe by year\n",
    "by_year = df.groupby('YEAR')\n",
    "#calculating the average score by year across all states\n",
    "by_year['AVG_MATH_4_SCORE'].mean()"
   ]
  },
  {
   "cell_type": "code",
   "execution_count": 190,
   "metadata": {},
   "outputs": [
    {
     "data": {
      "text/plain": [
       "239.943396"
      ]
     },
     "execution_count": 190,
     "metadata": {},
     "output_type": "execute_result"
    }
   ],
   "source": [
    "#according to the output the average for 2019 is 239.943396\n",
    "239.943396"
   ]
  },
  {
   "cell_type": "markdown",
   "metadata": {},
   "source": [
    "Find the maximum outcome score for every state. \n",
    "\n",
    "Refer to the `Grouping and Aggregating` section in Tutorial 0 if you are stuck."
   ]
  },
  {
   "cell_type": "code",
   "execution_count": 191,
   "metadata": {},
   "outputs": [
    {
     "data": {
      "text/html": [
       "<div>\n",
       "<style scoped>\n",
       "    .dataframe tbody tr th:only-of-type {\n",
       "        vertical-align: middle;\n",
       "    }\n",
       "\n",
       "    .dataframe tbody tr th {\n",
       "        vertical-align: top;\n",
       "    }\n",
       "\n",
       "    .dataframe thead th {\n",
       "        text-align: right;\n",
       "    }\n",
       "</style>\n",
       "<table border=\"1\" class=\"dataframe\">\n",
       "  <thead>\n",
       "    <tr style=\"text-align: right;\">\n",
       "      <th></th>\n",
       "      <th>count</th>\n",
       "      <th>mean</th>\n",
       "      <th>std</th>\n",
       "      <th>min</th>\n",
       "      <th>25%</th>\n",
       "      <th>50%</th>\n",
       "      <th>75%</th>\n",
       "      <th>max</th>\n",
       "    </tr>\n",
       "    <tr>\n",
       "      <th>STATE</th>\n",
       "      <th></th>\n",
       "      <th></th>\n",
       "      <th></th>\n",
       "      <th></th>\n",
       "      <th></th>\n",
       "      <th></th>\n",
       "      <th></th>\n",
       "      <th></th>\n",
       "    </tr>\n",
       "  </thead>\n",
       "  <tbody>\n",
       "    <tr>\n",
       "      <th>ALABAMA</th>\n",
       "      <td>33.0</td>\n",
       "      <td>234.030303</td>\n",
       "      <td>7.112862</td>\n",
       "      <td>208.0</td>\n",
       "      <td>231.00</td>\n",
       "      <td>238.0</td>\n",
       "      <td>238.0</td>\n",
       "      <td>238.0</td>\n",
       "    </tr>\n",
       "    <tr>\n",
       "      <th>ALASKA</th>\n",
       "      <td>33.0</td>\n",
       "      <td>237.121212</td>\n",
       "      <td>1.916337</td>\n",
       "      <td>230.0</td>\n",
       "      <td>237.00</td>\n",
       "      <td>238.0</td>\n",
       "      <td>238.0</td>\n",
       "      <td>238.0</td>\n",
       "    </tr>\n",
       "    <tr>\n",
       "      <th>ARIZONA</th>\n",
       "      <td>33.0</td>\n",
       "      <td>235.636364</td>\n",
       "      <td>5.532959</td>\n",
       "      <td>215.0</td>\n",
       "      <td>238.00</td>\n",
       "      <td>238.0</td>\n",
       "      <td>238.0</td>\n",
       "      <td>240.0</td>\n",
       "    </tr>\n",
       "    <tr>\n",
       "      <th>ARKANSAS</th>\n",
       "      <td>33.0</td>\n",
       "      <td>235.848485</td>\n",
       "      <td>6.260597</td>\n",
       "      <td>210.0</td>\n",
       "      <td>238.00</td>\n",
       "      <td>238.0</td>\n",
       "      <td>238.0</td>\n",
       "      <td>240.0</td>\n",
       "    </tr>\n",
       "    <tr>\n",
       "      <th>CALIFORNIA</th>\n",
       "      <td>33.0</td>\n",
       "      <td>234.636364</td>\n",
       "      <td>6.958889</td>\n",
       "      <td>208.0</td>\n",
       "      <td>234.00</td>\n",
       "      <td>238.0</td>\n",
       "      <td>238.0</td>\n",
       "      <td>238.0</td>\n",
       "    </tr>\n",
       "    <tr>\n",
       "      <th>COLORADO</th>\n",
       "      <td>33.0</td>\n",
       "      <td>238.424242</td>\n",
       "      <td>3.873228</td>\n",
       "      <td>221.0</td>\n",
       "      <td>238.00</td>\n",
       "      <td>238.0</td>\n",
       "      <td>238.0</td>\n",
       "      <td>247.0</td>\n",
       "    </tr>\n",
       "    <tr>\n",
       "      <th>CONNECTICUT</th>\n",
       "      <td>33.0</td>\n",
       "      <td>238.636364</td>\n",
       "      <td>3.029214</td>\n",
       "      <td>227.0</td>\n",
       "      <td>238.00</td>\n",
       "      <td>238.0</td>\n",
       "      <td>239.0</td>\n",
       "      <td>245.0</td>\n",
       "    </tr>\n",
       "    <tr>\n",
       "      <th>DELAWARE</th>\n",
       "      <td>33.0</td>\n",
       "      <td>237.757576</td>\n",
       "      <td>3.783437</td>\n",
       "      <td>218.0</td>\n",
       "      <td>238.00</td>\n",
       "      <td>238.0</td>\n",
       "      <td>238.0</td>\n",
       "      <td>243.0</td>\n",
       "    </tr>\n",
       "    <tr>\n",
       "      <th>DISTRICT_OF_COLUMBIA</th>\n",
       "      <td>33.0</td>\n",
       "      <td>230.848485</td>\n",
       "      <td>13.290319</td>\n",
       "      <td>192.0</td>\n",
       "      <td>231.00</td>\n",
       "      <td>238.0</td>\n",
       "      <td>238.0</td>\n",
       "      <td>238.0</td>\n",
       "    </tr>\n",
       "    <tr>\n",
       "      <th>DODEA</th>\n",
       "      <td>16.0</td>\n",
       "      <td>240.250000</td>\n",
       "      <td>5.615455</td>\n",
       "      <td>227.0</td>\n",
       "      <td>238.00</td>\n",
       "      <td>238.5</td>\n",
       "      <td>242.0</td>\n",
       "      <td>250.0</td>\n",
       "    </tr>\n",
       "    <tr>\n",
       "      <th>FLORIDA</th>\n",
       "      <td>33.0</td>\n",
       "      <td>238.242424</td>\n",
       "      <td>4.987674</td>\n",
       "      <td>214.0</td>\n",
       "      <td>238.00</td>\n",
       "      <td>238.0</td>\n",
       "      <td>238.0</td>\n",
       "      <td>246.0</td>\n",
       "    </tr>\n",
       "    <tr>\n",
       "      <th>GEORGIA</th>\n",
       "      <td>33.0</td>\n",
       "      <td>236.181818</td>\n",
       "      <td>5.126247</td>\n",
       "      <td>216.0</td>\n",
       "      <td>238.00</td>\n",
       "      <td>238.0</td>\n",
       "      <td>238.0</td>\n",
       "      <td>240.0</td>\n",
       "    </tr>\n",
       "    <tr>\n",
       "      <th>HAWAII</th>\n",
       "      <td>33.0</td>\n",
       "      <td>236.060606</td>\n",
       "      <td>6.041209</td>\n",
       "      <td>214.0</td>\n",
       "      <td>238.00</td>\n",
       "      <td>238.0</td>\n",
       "      <td>238.0</td>\n",
       "      <td>243.0</td>\n",
       "    </tr>\n",
       "    <tr>\n",
       "      <th>IDAHO</th>\n",
       "      <td>33.0</td>\n",
       "      <td>237.666667</td>\n",
       "      <td>4.051749</td>\n",
       "      <td>222.0</td>\n",
       "      <td>238.00</td>\n",
       "      <td>238.0</td>\n",
       "      <td>238.0</td>\n",
       "      <td>242.0</td>\n",
       "    </tr>\n",
       "    <tr>\n",
       "      <th>ILLINOIS</th>\n",
       "      <td>33.0</td>\n",
       "      <td>237.212121</td>\n",
       "      <td>2.847780</td>\n",
       "      <td>223.0</td>\n",
       "      <td>238.00</td>\n",
       "      <td>238.0</td>\n",
       "      <td>238.0</td>\n",
       "      <td>239.0</td>\n",
       "    </tr>\n",
       "    <tr>\n",
       "      <th>INDIANA</th>\n",
       "      <td>33.0</td>\n",
       "      <td>239.060606</td>\n",
       "      <td>4.814947</td>\n",
       "      <td>221.0</td>\n",
       "      <td>238.00</td>\n",
       "      <td>238.0</td>\n",
       "      <td>238.0</td>\n",
       "      <td>249.0</td>\n",
       "    </tr>\n",
       "    <tr>\n",
       "      <th>IOWA</th>\n",
       "      <td>33.0</td>\n",
       "      <td>238.696970</td>\n",
       "      <td>3.056600</td>\n",
       "      <td>230.0</td>\n",
       "      <td>238.00</td>\n",
       "      <td>238.0</td>\n",
       "      <td>238.0</td>\n",
       "      <td>246.0</td>\n",
       "    </tr>\n",
       "    <tr>\n",
       "      <th>KANSAS</th>\n",
       "      <td>33.0</td>\n",
       "      <td>239.393939</td>\n",
       "      <td>3.297152</td>\n",
       "      <td>232.0</td>\n",
       "      <td>238.00</td>\n",
       "      <td>238.0</td>\n",
       "      <td>239.0</td>\n",
       "      <td>248.0</td>\n",
       "    </tr>\n",
       "    <tr>\n",
       "      <th>KENTUCKY</th>\n",
       "      <td>33.0</td>\n",
       "      <td>236.545455</td>\n",
       "      <td>5.579488</td>\n",
       "      <td>215.0</td>\n",
       "      <td>238.00</td>\n",
       "      <td>238.0</td>\n",
       "      <td>238.0</td>\n",
       "      <td>242.0</td>\n",
       "    </tr>\n",
       "    <tr>\n",
       "      <th>LOUISIANA</th>\n",
       "      <td>33.0</td>\n",
       "      <td>234.212121</td>\n",
       "      <td>7.244643</td>\n",
       "      <td>204.0</td>\n",
       "      <td>231.00</td>\n",
       "      <td>238.0</td>\n",
       "      <td>238.0</td>\n",
       "      <td>238.0</td>\n",
       "    </tr>\n",
       "    <tr>\n",
       "      <th>MAINE</th>\n",
       "      <td>33.0</td>\n",
       "      <td>238.666667</td>\n",
       "      <td>2.933286</td>\n",
       "      <td>230.0</td>\n",
       "      <td>238.00</td>\n",
       "      <td>238.0</td>\n",
       "      <td>238.0</td>\n",
       "      <td>246.0</td>\n",
       "    </tr>\n",
       "    <tr>\n",
       "      <th>MARYLAND</th>\n",
       "      <td>33.0</td>\n",
       "      <td>237.606061</td>\n",
       "      <td>5.297047</td>\n",
       "      <td>217.0</td>\n",
       "      <td>238.00</td>\n",
       "      <td>238.0</td>\n",
       "      <td>238.0</td>\n",
       "      <td>247.0</td>\n",
       "    </tr>\n",
       "    <tr>\n",
       "      <th>MASSACHUSETTS</th>\n",
       "      <td>33.0</td>\n",
       "      <td>240.666667</td>\n",
       "      <td>6.177918</td>\n",
       "      <td>227.0</td>\n",
       "      <td>238.00</td>\n",
       "      <td>238.0</td>\n",
       "      <td>242.0</td>\n",
       "      <td>253.0</td>\n",
       "    </tr>\n",
       "    <tr>\n",
       "      <th>MICHIGAN</th>\n",
       "      <td>33.0</td>\n",
       "      <td>236.787879</td>\n",
       "      <td>3.452875</td>\n",
       "      <td>220.0</td>\n",
       "      <td>237.00</td>\n",
       "      <td>238.0</td>\n",
       "      <td>238.0</td>\n",
       "      <td>238.0</td>\n",
       "    </tr>\n",
       "    <tr>\n",
       "      <th>MINNESOTA</th>\n",
       "      <td>33.0</td>\n",
       "      <td>240.333333</td>\n",
       "      <td>5.389032</td>\n",
       "      <td>228.0</td>\n",
       "      <td>238.00</td>\n",
       "      <td>238.0</td>\n",
       "      <td>242.0</td>\n",
       "      <td>253.0</td>\n",
       "    </tr>\n",
       "    <tr>\n",
       "      <th>MISSISSIPPI</th>\n",
       "      <td>33.0</td>\n",
       "      <td>234.090909</td>\n",
       "      <td>8.356747</td>\n",
       "      <td>202.0</td>\n",
       "      <td>234.00</td>\n",
       "      <td>238.0</td>\n",
       "      <td>238.0</td>\n",
       "      <td>241.0</td>\n",
       "    </tr>\n",
       "    <tr>\n",
       "      <th>MISSOURI</th>\n",
       "      <td>33.0</td>\n",
       "      <td>237.363636</td>\n",
       "      <td>3.462461</td>\n",
       "      <td>222.0</td>\n",
       "      <td>238.00</td>\n",
       "      <td>238.0</td>\n",
       "      <td>238.0</td>\n",
       "      <td>241.0</td>\n",
       "    </tr>\n",
       "    <tr>\n",
       "      <th>MONTANA</th>\n",
       "      <td>33.0</td>\n",
       "      <td>238.727273</td>\n",
       "      <td>2.886095</td>\n",
       "      <td>228.0</td>\n",
       "      <td>238.00</td>\n",
       "      <td>238.0</td>\n",
       "      <td>238.0</td>\n",
       "      <td>244.0</td>\n",
       "    </tr>\n",
       "    <tr>\n",
       "      <th>NATIONAL</th>\n",
       "      <td>16.0</td>\n",
       "      <td>234.625000</td>\n",
       "      <td>8.815706</td>\n",
       "      <td>213.0</td>\n",
       "      <td>232.75</td>\n",
       "      <td>238.0</td>\n",
       "      <td>240.0</td>\n",
       "      <td>242.0</td>\n",
       "    </tr>\n",
       "    <tr>\n",
       "      <th>NEBRASKA</th>\n",
       "      <td>33.0</td>\n",
       "      <td>238.000000</td>\n",
       "      <td>3.984344</td>\n",
       "      <td>225.0</td>\n",
       "      <td>238.00</td>\n",
       "      <td>238.0</td>\n",
       "      <td>238.0</td>\n",
       "      <td>246.0</td>\n",
       "    </tr>\n",
       "    <tr>\n",
       "      <th>NEVADA</th>\n",
       "      <td>33.0</td>\n",
       "      <td>236.181818</td>\n",
       "      <td>3.892738</td>\n",
       "      <td>220.0</td>\n",
       "      <td>236.00</td>\n",
       "      <td>238.0</td>\n",
       "      <td>238.0</td>\n",
       "      <td>238.0</td>\n",
       "    </tr>\n",
       "    <tr>\n",
       "      <th>NEW_HAMPSHIRE</th>\n",
       "      <td>33.0</td>\n",
       "      <td>240.515152</td>\n",
       "      <td>5.226861</td>\n",
       "      <td>230.0</td>\n",
       "      <td>238.00</td>\n",
       "      <td>238.0</td>\n",
       "      <td>243.0</td>\n",
       "      <td>253.0</td>\n",
       "    </tr>\n",
       "    <tr>\n",
       "      <th>NEW_JERSEY</th>\n",
       "      <td>33.0</td>\n",
       "      <td>239.818182</td>\n",
       "      <td>4.489255</td>\n",
       "      <td>227.0</td>\n",
       "      <td>238.00</td>\n",
       "      <td>238.0</td>\n",
       "      <td>239.0</td>\n",
       "      <td>249.0</td>\n",
       "    </tr>\n",
       "    <tr>\n",
       "      <th>NEW_MEXICO</th>\n",
       "      <td>33.0</td>\n",
       "      <td>234.090909</td>\n",
       "      <td>6.943359</td>\n",
       "      <td>213.0</td>\n",
       "      <td>231.00</td>\n",
       "      <td>238.0</td>\n",
       "      <td>238.0</td>\n",
       "      <td>238.0</td>\n",
       "    </tr>\n",
       "    <tr>\n",
       "      <th>NEW_YORK</th>\n",
       "      <td>33.0</td>\n",
       "      <td>237.121212</td>\n",
       "      <td>4.299401</td>\n",
       "      <td>218.0</td>\n",
       "      <td>238.00</td>\n",
       "      <td>238.0</td>\n",
       "      <td>238.0</td>\n",
       "      <td>243.0</td>\n",
       "    </tr>\n",
       "    <tr>\n",
       "      <th>NORTH_CAROLINA</th>\n",
       "      <td>33.0</td>\n",
       "      <td>238.303030</td>\n",
       "      <td>5.347224</td>\n",
       "      <td>213.0</td>\n",
       "      <td>238.00</td>\n",
       "      <td>238.0</td>\n",
       "      <td>241.0</td>\n",
       "      <td>245.0</td>\n",
       "    </tr>\n",
       "    <tr>\n",
       "      <th>NORTH_DAKOTA</th>\n",
       "      <td>33.0</td>\n",
       "      <td>239.060606</td>\n",
       "      <td>3.766127</td>\n",
       "      <td>229.0</td>\n",
       "      <td>238.00</td>\n",
       "      <td>238.0</td>\n",
       "      <td>238.0</td>\n",
       "      <td>246.0</td>\n",
       "    </tr>\n",
       "    <tr>\n",
       "      <th>OHIO</th>\n",
       "      <td>33.0</td>\n",
       "      <td>238.484848</td>\n",
       "      <td>4.583402</td>\n",
       "      <td>219.0</td>\n",
       "      <td>238.00</td>\n",
       "      <td>238.0</td>\n",
       "      <td>238.0</td>\n",
       "      <td>246.0</td>\n",
       "    </tr>\n",
       "    <tr>\n",
       "      <th>OKLAHOMA</th>\n",
       "      <td>33.0</td>\n",
       "      <td>236.575758</td>\n",
       "      <td>4.183526</td>\n",
       "      <td>220.0</td>\n",
       "      <td>237.00</td>\n",
       "      <td>238.0</td>\n",
       "      <td>238.0</td>\n",
       "      <td>240.0</td>\n",
       "    </tr>\n",
       "    <tr>\n",
       "      <th>OREGON</th>\n",
       "      <td>33.0</td>\n",
       "      <td>237.272727</td>\n",
       "      <td>2.625271</td>\n",
       "      <td>224.0</td>\n",
       "      <td>238.00</td>\n",
       "      <td>238.0</td>\n",
       "      <td>238.0</td>\n",
       "      <td>240.0</td>\n",
       "    </tr>\n",
       "    <tr>\n",
       "      <th>PENNSYLVANIA</th>\n",
       "      <td>33.0</td>\n",
       "      <td>238.848485</td>\n",
       "      <td>3.683758</td>\n",
       "      <td>224.0</td>\n",
       "      <td>238.00</td>\n",
       "      <td>238.0</td>\n",
       "      <td>238.0</td>\n",
       "      <td>246.0</td>\n",
       "    </tr>\n",
       "    <tr>\n",
       "      <th>RHODE_ISLAND</th>\n",
       "      <td>33.0</td>\n",
       "      <td>236.696970</td>\n",
       "      <td>4.965411</td>\n",
       "      <td>215.0</td>\n",
       "      <td>238.00</td>\n",
       "      <td>238.0</td>\n",
       "      <td>238.0</td>\n",
       "      <td>242.0</td>\n",
       "    </tr>\n",
       "    <tr>\n",
       "      <th>SOUTH_CAROLINA</th>\n",
       "      <td>33.0</td>\n",
       "      <td>236.272727</td>\n",
       "      <td>5.392545</td>\n",
       "      <td>212.0</td>\n",
       "      <td>237.00</td>\n",
       "      <td>238.0</td>\n",
       "      <td>238.0</td>\n",
       "      <td>238.0</td>\n",
       "    </tr>\n",
       "    <tr>\n",
       "      <th>SOUTH_DAKOTA</th>\n",
       "      <td>33.0</td>\n",
       "      <td>238.757576</td>\n",
       "      <td>1.479660</td>\n",
       "      <td>237.0</td>\n",
       "      <td>238.00</td>\n",
       "      <td>238.0</td>\n",
       "      <td>238.0</td>\n",
       "      <td>242.0</td>\n",
       "    </tr>\n",
       "    <tr>\n",
       "      <th>TENNESSEE</th>\n",
       "      <td>33.0</td>\n",
       "      <td>235.848485</td>\n",
       "      <td>5.969303</td>\n",
       "      <td>211.0</td>\n",
       "      <td>238.00</td>\n",
       "      <td>238.0</td>\n",
       "      <td>238.0</td>\n",
       "      <td>241.0</td>\n",
       "    </tr>\n",
       "    <tr>\n",
       "      <th>TEXAS</th>\n",
       "      <td>33.0</td>\n",
       "      <td>238.121212</td>\n",
       "      <td>4.299401</td>\n",
       "      <td>218.0</td>\n",
       "      <td>238.00</td>\n",
       "      <td>238.0</td>\n",
       "      <td>238.0</td>\n",
       "      <td>244.0</td>\n",
       "    </tr>\n",
       "    <tr>\n",
       "      <th>UTAH</th>\n",
       "      <td>33.0</td>\n",
       "      <td>238.030303</td>\n",
       "      <td>3.787189</td>\n",
       "      <td>224.0</td>\n",
       "      <td>238.00</td>\n",
       "      <td>238.0</td>\n",
       "      <td>238.0</td>\n",
       "      <td>244.0</td>\n",
       "    </tr>\n",
       "    <tr>\n",
       "      <th>VERMONT</th>\n",
       "      <td>33.0</td>\n",
       "      <td>239.515152</td>\n",
       "      <td>3.501082</td>\n",
       "      <td>232.0</td>\n",
       "      <td>238.00</td>\n",
       "      <td>238.0</td>\n",
       "      <td>239.0</td>\n",
       "      <td>248.0</td>\n",
       "    </tr>\n",
       "    <tr>\n",
       "      <th>VIRGINIA</th>\n",
       "      <td>33.0</td>\n",
       "      <td>238.969697</td>\n",
       "      <td>4.882909</td>\n",
       "      <td>221.0</td>\n",
       "      <td>238.00</td>\n",
       "      <td>238.0</td>\n",
       "      <td>239.0</td>\n",
       "      <td>248.0</td>\n",
       "    </tr>\n",
       "    <tr>\n",
       "      <th>WASHINGTON</th>\n",
       "      <td>33.0</td>\n",
       "      <td>239.181818</td>\n",
       "      <td>2.297479</td>\n",
       "      <td>238.0</td>\n",
       "      <td>238.00</td>\n",
       "      <td>238.0</td>\n",
       "      <td>238.0</td>\n",
       "      <td>246.0</td>\n",
       "    </tr>\n",
       "    <tr>\n",
       "      <th>WEST_VIRGINIA</th>\n",
       "      <td>33.0</td>\n",
       "      <td>235.727273</td>\n",
       "      <td>4.945154</td>\n",
       "      <td>215.0</td>\n",
       "      <td>236.00</td>\n",
       "      <td>238.0</td>\n",
       "      <td>238.0</td>\n",
       "      <td>238.0</td>\n",
       "    </tr>\n",
       "    <tr>\n",
       "      <th>WISCONSIN</th>\n",
       "      <td>33.0</td>\n",
       "      <td>238.909091</td>\n",
       "      <td>2.951309</td>\n",
       "      <td>229.0</td>\n",
       "      <td>238.00</td>\n",
       "      <td>238.0</td>\n",
       "      <td>238.0</td>\n",
       "      <td>245.0</td>\n",
       "    </tr>\n",
       "    <tr>\n",
       "      <th>WYOMING</th>\n",
       "      <td>33.0</td>\n",
       "      <td>239.151515</td>\n",
       "      <td>4.521623</td>\n",
       "      <td>225.0</td>\n",
       "      <td>238.00</td>\n",
       "      <td>238.0</td>\n",
       "      <td>241.0</td>\n",
       "      <td>248.0</td>\n",
       "    </tr>\n",
       "  </tbody>\n",
       "</table>\n",
       "</div>"
      ],
      "text/plain": [
       "                      count        mean        std    min     25%    50%  \\\n",
       "STATE                                                                      \n",
       "ALABAMA                33.0  234.030303   7.112862  208.0  231.00  238.0   \n",
       "ALASKA                 33.0  237.121212   1.916337  230.0  237.00  238.0   \n",
       "ARIZONA                33.0  235.636364   5.532959  215.0  238.00  238.0   \n",
       "ARKANSAS               33.0  235.848485   6.260597  210.0  238.00  238.0   \n",
       "CALIFORNIA             33.0  234.636364   6.958889  208.0  234.00  238.0   \n",
       "COLORADO               33.0  238.424242   3.873228  221.0  238.00  238.0   \n",
       "CONNECTICUT            33.0  238.636364   3.029214  227.0  238.00  238.0   \n",
       "DELAWARE               33.0  237.757576   3.783437  218.0  238.00  238.0   \n",
       "DISTRICT_OF_COLUMBIA   33.0  230.848485  13.290319  192.0  231.00  238.0   \n",
       "DODEA                  16.0  240.250000   5.615455  227.0  238.00  238.5   \n",
       "FLORIDA                33.0  238.242424   4.987674  214.0  238.00  238.0   \n",
       "GEORGIA                33.0  236.181818   5.126247  216.0  238.00  238.0   \n",
       "HAWAII                 33.0  236.060606   6.041209  214.0  238.00  238.0   \n",
       "IDAHO                  33.0  237.666667   4.051749  222.0  238.00  238.0   \n",
       "ILLINOIS               33.0  237.212121   2.847780  223.0  238.00  238.0   \n",
       "INDIANA                33.0  239.060606   4.814947  221.0  238.00  238.0   \n",
       "IOWA                   33.0  238.696970   3.056600  230.0  238.00  238.0   \n",
       "KANSAS                 33.0  239.393939   3.297152  232.0  238.00  238.0   \n",
       "KENTUCKY               33.0  236.545455   5.579488  215.0  238.00  238.0   \n",
       "LOUISIANA              33.0  234.212121   7.244643  204.0  231.00  238.0   \n",
       "MAINE                  33.0  238.666667   2.933286  230.0  238.00  238.0   \n",
       "MARYLAND               33.0  237.606061   5.297047  217.0  238.00  238.0   \n",
       "MASSACHUSETTS          33.0  240.666667   6.177918  227.0  238.00  238.0   \n",
       "MICHIGAN               33.0  236.787879   3.452875  220.0  237.00  238.0   \n",
       "MINNESOTA              33.0  240.333333   5.389032  228.0  238.00  238.0   \n",
       "MISSISSIPPI            33.0  234.090909   8.356747  202.0  234.00  238.0   \n",
       "MISSOURI               33.0  237.363636   3.462461  222.0  238.00  238.0   \n",
       "MONTANA                33.0  238.727273   2.886095  228.0  238.00  238.0   \n",
       "NATIONAL               16.0  234.625000   8.815706  213.0  232.75  238.0   \n",
       "NEBRASKA               33.0  238.000000   3.984344  225.0  238.00  238.0   \n",
       "NEVADA                 33.0  236.181818   3.892738  220.0  236.00  238.0   \n",
       "NEW_HAMPSHIRE          33.0  240.515152   5.226861  230.0  238.00  238.0   \n",
       "NEW_JERSEY             33.0  239.818182   4.489255  227.0  238.00  238.0   \n",
       "NEW_MEXICO             33.0  234.090909   6.943359  213.0  231.00  238.0   \n",
       "NEW_YORK               33.0  237.121212   4.299401  218.0  238.00  238.0   \n",
       "NORTH_CAROLINA         33.0  238.303030   5.347224  213.0  238.00  238.0   \n",
       "NORTH_DAKOTA           33.0  239.060606   3.766127  229.0  238.00  238.0   \n",
       "OHIO                   33.0  238.484848   4.583402  219.0  238.00  238.0   \n",
       "OKLAHOMA               33.0  236.575758   4.183526  220.0  237.00  238.0   \n",
       "OREGON                 33.0  237.272727   2.625271  224.0  238.00  238.0   \n",
       "PENNSYLVANIA           33.0  238.848485   3.683758  224.0  238.00  238.0   \n",
       "RHODE_ISLAND           33.0  236.696970   4.965411  215.0  238.00  238.0   \n",
       "SOUTH_CAROLINA         33.0  236.272727   5.392545  212.0  237.00  238.0   \n",
       "SOUTH_DAKOTA           33.0  238.757576   1.479660  237.0  238.00  238.0   \n",
       "TENNESSEE              33.0  235.848485   5.969303  211.0  238.00  238.0   \n",
       "TEXAS                  33.0  238.121212   4.299401  218.0  238.00  238.0   \n",
       "UTAH                   33.0  238.030303   3.787189  224.0  238.00  238.0   \n",
       "VERMONT                33.0  239.515152   3.501082  232.0  238.00  238.0   \n",
       "VIRGINIA               33.0  238.969697   4.882909  221.0  238.00  238.0   \n",
       "WASHINGTON             33.0  239.181818   2.297479  238.0  238.00  238.0   \n",
       "WEST_VIRGINIA          33.0  235.727273   4.945154  215.0  236.00  238.0   \n",
       "WISCONSIN              33.0  238.909091   2.951309  229.0  238.00  238.0   \n",
       "WYOMING                33.0  239.151515   4.521623  225.0  238.00  238.0   \n",
       "\n",
       "                        75%    max  \n",
       "STATE                               \n",
       "ALABAMA               238.0  238.0  \n",
       "ALASKA                238.0  238.0  \n",
       "ARIZONA               238.0  240.0  \n",
       "ARKANSAS              238.0  240.0  \n",
       "CALIFORNIA            238.0  238.0  \n",
       "COLORADO              238.0  247.0  \n",
       "CONNECTICUT           239.0  245.0  \n",
       "DELAWARE              238.0  243.0  \n",
       "DISTRICT_OF_COLUMBIA  238.0  238.0  \n",
       "DODEA                 242.0  250.0  \n",
       "FLORIDA               238.0  246.0  \n",
       "GEORGIA               238.0  240.0  \n",
       "HAWAII                238.0  243.0  \n",
       "IDAHO                 238.0  242.0  \n",
       "ILLINOIS              238.0  239.0  \n",
       "INDIANA               238.0  249.0  \n",
       "IOWA                  238.0  246.0  \n",
       "KANSAS                239.0  248.0  \n",
       "KENTUCKY              238.0  242.0  \n",
       "LOUISIANA             238.0  238.0  \n",
       "MAINE                 238.0  246.0  \n",
       "MARYLAND              238.0  247.0  \n",
       "MASSACHUSETTS         242.0  253.0  \n",
       "MICHIGAN              238.0  238.0  \n",
       "MINNESOTA             242.0  253.0  \n",
       "MISSISSIPPI           238.0  241.0  \n",
       "MISSOURI              238.0  241.0  \n",
       "MONTANA               238.0  244.0  \n",
       "NATIONAL              240.0  242.0  \n",
       "NEBRASKA              238.0  246.0  \n",
       "NEVADA                238.0  238.0  \n",
       "NEW_HAMPSHIRE         243.0  253.0  \n",
       "NEW_JERSEY            239.0  249.0  \n",
       "NEW_MEXICO            238.0  238.0  \n",
       "NEW_YORK              238.0  243.0  \n",
       "NORTH_CAROLINA        241.0  245.0  \n",
       "NORTH_DAKOTA          238.0  246.0  \n",
       "OHIO                  238.0  246.0  \n",
       "OKLAHOMA              238.0  240.0  \n",
       "OREGON                238.0  240.0  \n",
       "PENNSYLVANIA          238.0  246.0  \n",
       "RHODE_ISLAND          238.0  242.0  \n",
       "SOUTH_CAROLINA        238.0  238.0  \n",
       "SOUTH_DAKOTA          238.0  242.0  \n",
       "TENNESSEE             238.0  241.0  \n",
       "TEXAS                 238.0  244.0  \n",
       "UTAH                  238.0  244.0  \n",
       "VERMONT               239.0  248.0  \n",
       "VIRGINIA              239.0  248.0  \n",
       "WASHINGTON            238.0  246.0  \n",
       "WEST_VIRGINIA         238.0  238.0  \n",
       "WISCONSIN             238.0  245.0  \n",
       "WYOMING               241.0  248.0  "
      ]
     },
     "execution_count": 191,
     "metadata": {},
     "output_type": "execute_result"
    }
   ],
   "source": [
    "#the last column of the describe() output has the max\n",
    "#grouping by state and then applying describe() on the AVG_MATH_4_SCORE column will get the results\n",
    "#look at the last column for the solution\n",
    "df.groupby('STATE')[\"AVG_MATH_4_SCORE\"].describe()"
   ]
  },
  {
   "cell_type": "markdown",
   "metadata": {},
   "source": [
    "look at the last column in the output above for the solution"
   ]
  },
  {
   "cell_type": "markdown",
   "metadata": {},
   "source": [
    "<h2> Feature Engineering </h2>\n",
    "\n",
    "After exploring the data, you can choose to modify features that you would use to predict the performance of the students on your chosen response variable. \n",
    "\n",
    "You can also create your own features. For example, perhaps you figured that maybe a state's expenditure per student may affect their overall academic performance so you create a expenditure_per_student feature.\n",
    "\n",
    "Use this space to modify or create features."
   ]
  },
  {
   "cell_type": "code",
   "execution_count": 192,
   "metadata": {},
   "outputs": [
    {
     "data": {
      "text/plain": [
       "Index(['PRIMARY_KEY', 'STATE', 'YEAR', 'NUM_ENROLL_ALL_EST', 'TOTAL_REVENUE',\n",
       "       'FEDERAL_REVENUE', 'STATE_REVENUE', 'LOCAL_REVENUE',\n",
       "       'TOTAL_EXPENDITURE', 'INSTRUCTION_EXPENDITURE',\n",
       "       'SUPPORT_SERVICES_EXPENDITURE', 'OTHER_EXPENDITURE',\n",
       "       'CAPITAL_OUTLAY_EXPENDITURE', 'NUM_ENROLL_PREK', 'NUM_ENROLL_KINDER',\n",
       "       'NUM_ENROLL_4', 'NUM_ENROLL_8', 'NUM_ENROLL_12', 'NUM_ENROLL_PRIMARY',\n",
       "       'NUM_ENROLL_HS', 'NUM_ENROLL_ALL', 'AVG_MATH_4_SCORE',\n",
       "       'AVG_MATH_8_SCORE', 'AVG_READING_4_SCORE', 'AVG_READING_8_SCORE'],\n",
       "      dtype='object')"
      ]
     },
     "execution_count": 192,
     "metadata": {},
     "output_type": "execute_result"
    }
   ],
   "source": [
    "#seeing what columns there are\n",
    "df.columns"
   ]
  },
  {
   "cell_type": "code",
   "execution_count": 193,
   "metadata": {},
   "outputs": [],
   "source": [
    "#creatinig new columns which represents expenditure types per student\n",
    "df['TOTAL_EXPENDITURE_PER_STUDENT'] = df['TOTAL_EXPENDITURE'] / df['NUM_ENROLL_ALL']\n",
    "df['SUPPORT_SERVICES_EXPENDITURE_PER_STUDENT'] = df['SUPPORT_SERVICES_EXPENDITURE'] / df['NUM_ENROLL_ALL']\n",
    "df['INSTRUCTION_EXPENDITURE_PER_STUDENT'] = df['INSTRUCTION_EXPENDITURE'] / df['NUM_ENROLL_ALL']\n",
    "\n",
    "#creating a new column for revenue types per student\n",
    "df['TOTAL_REVENUE_PER_STUDENT'] = df['TOTAL_REVENUE'] / df['NUM_ENROLL_ALL']\n",
    "df['LOCAL_REVENUE'] = df['LOCAL_REVENUE'] / df['NUM_ENROLL_ALL']\n",
    "\n"
   ]
  },
  {
   "cell_type": "markdown",
   "metadata": {},
   "source": [
    "Feature engineering justification: **<BRIEFLY DESCRIBE WHY YOU MADE THE CHANGES THAT YOU DID\\>**\n",
    "\n",
    "I standardized the monetary data (both expenditures and revenue) per student, because some states like California probably spend and have more than New Jersey, but part of the difference in funds is accounted for by the number of students."
   ]
  },
  {
   "cell_type": "markdown",
   "metadata": {},
   "source": [
    "<h2>Visualization</h2>\n",
    "\n",
    "Investigate the relationship between your chosen response variable and at least two predictors using visualizations. Write down your observations.\n",
    "\n",
    "**Visualization 1**"
   ]
  },
  {
   "cell_type": "code",
   "execution_count": 194,
   "metadata": {},
   "outputs": [
    {
     "data": {
      "text/plain": [
       "<AxesSubplot: title={'center': 'Average 4th Grade Math Scores vs Total Expenditure Per Student'}, xlabel='TOTAL_EXPENDITURE_PER_STUDENT', ylabel='AVG_MATH_4_SCORE'>"
      ]
     },
     "execution_count": 194,
     "metadata": {},
     "output_type": "execute_result"
    },
    {
     "data": {
      "image/png": "[encoded data removed]",
      "text/plain": [
       "<Figure size 640x480 with 1 Axes>"
      ]
     },
     "metadata": {},
     "output_type": "display_data"
    }
   ],
   "source": [
    "#I will investigate the relationship between average 4th grade math scores and total revenue per student\n",
    "#I will use a scatter plot because both variables are continuous\n",
    "df.plot.scatter(x=\"TOTAL_EXPENDITURE_PER_STUDENT\", y=\"AVG_MATH_4_SCORE\", title=\"Average 4th Grade Math Scores vs Total Expenditure Per Student\")"
   ]
  },
  {
   "cell_type": "markdown",
   "metadata": {},
   "source": [
    "**<CAPTION FOR VIZ 1>** It seems as though average 4th grade math scores and total expenditure per student are correlated. The horizontal line of dots around the 4th grade math average score of 237 can be explained by putting the median into rows with a missing value."
   ]
  },
  {
   "cell_type": "markdown",
   "metadata": {},
   "source": [
    "**Visualization 2**"
   ]
  },
  {
   "cell_type": "code",
   "execution_count": 195,
   "metadata": {},
   "outputs": [
    {
     "data": {
      "text/plain": [
       "<AxesSubplot: title={'center': 'Average 4th Grade Math Scores vs Total Revenue Per Student'}, xlabel='TOTAL_REVENUE_PER_STUDENT', ylabel='AVG_MATH_4_SCORE'>"
      ]
     },
     "execution_count": 195,
     "metadata": {},
     "output_type": "execute_result"
    },
    {
     "data": {
      "image/png": "[encoded data removed]",
      "text/plain": [
       "<Figure size 640x480 with 1 Axes>"
      ]
     },
     "metadata": {},
     "output_type": "display_data"
    }
   ],
   "source": [
    "#I will investigate the relationship between average 4th grade math scores and total expenditure per student\n",
    "df.plot.scatter(x=\"TOTAL_REVENUE_PER_STUDENT\", y=\"AVG_MATH_4_SCORE\", title=\"Average 4th Grade Math Scores vs Total Revenue Per Student\")"
   ]
  },
  {
   "cell_type": "markdown",
   "metadata": {},
   "source": [
    "**<CAPTION FOR VIZ 2>** Though there are a few outliers, it does seem like total revenue per student and average fourth grade math scores are correlated. Again, the line around the score of 237 can be explained by replacing rows with missing values with the median."
   ]
  },
  {
   "cell_type": "markdown",
   "metadata": {},
   "source": [
    "<h2> Data Creation </h2>\n",
    "\n",
    "_Use this space to create train/test data_"
   ]
  },
  {
   "cell_type": "code",
   "execution_count": 196,
   "metadata": {},
   "outputs": [],
   "source": [
    "from sklearn.model_selection import train_test_split"
   ]
  },
  {
   "cell_type": "code",
   "execution_count": 197,
   "metadata": {},
   "outputs": [
    {
     "ename": "SyntaxError",
     "evalue": "unterminated string literal (detected at line 4) (278446814.py, line 4)",
     "output_type": "error",
     "traceback": [
      "\u001b[0;36m  Cell \u001b[0;32mIn [197], line 4\u001b[0;36m\u001b[0m\n\u001b[0;31m    X = df[[TOTAL_REVENUE_PER_STUDENT','TOTAL_EXPENDITURE_PER_STUDENT']].dropna()\u001b[0m\n\u001b[0m                                                                     ^\u001b[0m\n\u001b[0;31mSyntaxError\u001b[0m\u001b[0;31m:\u001b[0m unterminated string literal (detected at line 4)\n"
     ]
    }
   ],
   "source": [
    "# X will be used to denote the input data\n",
    "# y will be used for the response / output data\n",
    "# to deal with missing values in the input data, I used .dropna()\n",
    "X = df[[TOTAL_REVENUE_PER_STUDENT','TOTAL_EXPENDITURE_PER_STUDENT']].dropna()\n",
    "y = df.loc[X.index]['AVG_MATH_4_SCORE']"
   ]
  },
  {
   "cell_type": "code",
   "execution_count": 198,
   "metadata": {},
   "outputs": [],
   "source": [
    "# making sure that y will not have any Nan\n",
    "y.fillna(y.median(), inplace=True)"
   ]
  },
  {
   "cell_type": "code",
   "execution_count": 199,
   "metadata": {},
   "outputs": [],
   "source": [
    "# X_train, X_test, y_train, y_test = train_test_split(\n",
    "#      X, y, test_size=, random_state=42)\n",
    "\n",
    "#I will use the classic 70 / 30 train / test split\n",
    "#I wil set the random_state explicitly to sure I get the same results every time I run my code\n",
    "\n",
    "X_train, X_test, y_train, y_test = train_test_split(X, y, test_size = .3, random_state=0)"
   ]
  },
  {
   "cell_type": "markdown",
   "metadata": {},
   "source": [
    "<h2> Prediction </h2>"
   ]
  },
  {
   "cell_type": "markdown",
   "metadata": {},
   "source": [
    "ML Models [Resource](https://medium.com/@vijaya.beeravalli/comparison-of-machine-learning-classification-models-for-credit-card-default-data-c3cf805c9a5a)"
   ]
  },
  {
   "cell_type": "code",
   "execution_count": 200,
   "metadata": {},
   "outputs": [],
   "source": [
    "# import your sklearn class here\n",
    "# I will use linear regression, because each visualization depicted a pretty linear relationship between the variables\n",
    "from sklearn.linear_model import LinearRegression"
   ]
  },
  {
   "cell_type": "code",
   "execution_count": 201,
   "metadata": {},
   "outputs": [],
   "source": [
    "# my model \n",
    "model = LinearRegression()"
   ]
  },
  {
   "cell_type": "code",
   "execution_count": 202,
   "metadata": {},
   "outputs": [
    {
     "data": {
      "text/html": [
       "<style>#sk-container-id-2 {color: black;background-color: white;}#sk-container-id-2 pre{padding: 0;}#sk-container-id-2 div.sk-toggleable {background-color: white;}#sk-container-id-2 label.sk-toggleable__label {cursor: pointer;display: block;width: 100%;margin-bottom: 0;padding: 0.3em;box-sizing: border-box;text-align: center;}#sk-container-id-2 label.sk-toggleable__label-arrow:before {content: \"▸\";float: left;margin-right: 0.25em;color: #696969;}#sk-container-id-2 label.sk-toggleable__label-arrow:hover:before {color: black;}#sk-container-id-2 div.sk-estimator:hover label.sk-toggleable__label-arrow:before {color: black;}#sk-container-id-2 div.sk-toggleable__content {max-height: 0;max-width: 0;overflow: hidden;text-align: left;background-color: #f0f8ff;}#sk-container-id-2 div.sk-toggleable__content pre {margin: 0.2em;color: black;border-radius: 0.25em;background-color: #f0f8ff;}#sk-container-id-2 input.sk-toggleable__control:checked~div.sk-toggleable__content {max-height: 200px;max-width: 100%;overflow: auto;}#sk-container-id-2 input.sk-toggleable__control:checked~label.sk-toggleable__label-arrow:before {content: \"▾\";}#sk-container-id-2 div.sk-estimator input.sk-toggleable__control:checked~label.sk-toggleable__label {background-color: #d4ebff;}#sk-container-id-2 div.sk-label input.sk-toggleable__control:checked~label.sk-toggleable__label {background-color: #d4ebff;}#sk-container-id-2 input.sk-hidden--visually {border: 0;clip: rect(1px 1px 1px 1px);clip: rect(1px, 1px, 1px, 1px);height: 1px;margin: -1px;overflow: hidden;padding: 0;position: absolute;width: 1px;}#sk-container-id-2 div.sk-estimator {font-family: monospace;background-color: #f0f8ff;border: 1px dotted black;border-radius: 0.25em;box-sizing: border-box;margin-bottom: 0.5em;}#sk-container-id-2 div.sk-estimator:hover {background-color: #d4ebff;}#sk-container-id-2 div.sk-parallel-item::after {content: \"\";width: 100%;border-bottom: 1px solid gray;flex-grow: 1;}#sk-container-id-2 div.sk-label:hover label.sk-toggleable__label {background-color: #d4ebff;}#sk-container-id-2 div.sk-serial::before {content: \"\";position: absolute;border-left: 1px solid gray;box-sizing: border-box;top: 0;bottom: 0;left: 50%;z-index: 0;}#sk-container-id-2 div.sk-serial {display: flex;flex-direction: column;align-items: center;background-color: white;padding-right: 0.2em;padding-left: 0.2em;position: relative;}#sk-container-id-2 div.sk-item {position: relative;z-index: 1;}#sk-container-id-2 div.sk-parallel {display: flex;align-items: stretch;justify-content: center;background-color: white;position: relative;}#sk-container-id-2 div.sk-item::before, #sk-container-id-2 div.sk-parallel-item::before {content: \"\";position: absolute;border-left: 1px solid gray;box-sizing: border-box;top: 0;bottom: 0;left: 50%;z-index: -1;}#sk-container-id-2 div.sk-parallel-item {display: flex;flex-direction: column;z-index: 1;position: relative;background-color: white;}#sk-container-id-2 div.sk-parallel-item:first-child::after {align-self: flex-end;width: 50%;}#sk-container-id-2 div.sk-parallel-item:last-child::after {align-self: flex-start;width: 50%;}#sk-container-id-2 div.sk-parallel-item:only-child::after {width: 0;}#sk-container-id-2 div.sk-dashed-wrapped {border: 1px dashed gray;margin: 0 0.4em 0.5em 0.4em;box-sizing: border-box;padding-bottom: 0.4em;background-color: white;}#sk-container-id-2 div.sk-label label {font-family: monospace;font-weight: bold;display: inline-block;line-height: 1.2em;}#sk-container-id-2 div.sk-label-container {text-align: center;}#sk-container-id-2 div.sk-container {/* jupyter's `normalize.less` sets `[hidden] { display: none; }` but bootstrap.min.css set `[hidden] { display: none !important; }` so we also need the `!important` here to be able to override the default hidden behavior on the sphinx rendered scikit-learn.org. See: https://github.com/scikit-learn/scikit-learn/issues/21755 */display: inline-block !important;position: relative;}#sk-container-id-2 div.sk-text-repr-fallback {display: none;}</style><div id=\"sk-container-id-2\" class=\"sk-top-container\"><div class=\"sk-text-repr-fallback\"><pre>LinearRegression()</pre><b>In a Jupyter environment, please rerun this cell to show the HTML representation or trust the notebook. <br />On GitHub, the HTML representation is unable to render, please try loading this page with nbviewer.org.</b></div><div class=\"sk-container\" hidden><div class=\"sk-item\"><div class=\"sk-estimator sk-toggleable\"><input class=\"sk-toggleable__control sk-hidden--visually\" id=\"sk-estimator-id-2\" type=\"checkbox\" checked><label for=\"sk-estimator-id-2\" class=\"sk-toggleable__label sk-toggleable__label-arrow\">LinearRegression</label><div class=\"sk-toggleable__content\"><pre>LinearRegression()</pre></div></div></div></div></div>"
      ],
      "text/plain": [
       "LinearRegression()"
      ]
     },
     "execution_count": 202,
     "metadata": {},
     "output_type": "execute_result"
    }
   ],
   "source": [
    "# training the data\n",
    "model.fit(X_train, y_train)"
   ]
  },
  {
   "cell_type": "code",
   "execution_count": 203,
   "metadata": {},
   "outputs": [],
   "source": [
    "y_pred = model.predict(X_test)"
   ]
  },
  {
   "cell_type": "markdown",
   "metadata": {},
   "source": [
    "## Evaluation"
   ]
  },
  {
   "cell_type": "markdown",
   "metadata": {},
   "source": [
    "Choose some metrics to evaluate the performance of your model, some of them are mentioned in the tutorial."
   ]
  },
  {
   "cell_type": "code",
   "execution_count": 204,
   "metadata": {},
   "outputs": [
    {
     "data": {
      "text/plain": [
       "0.0833778027896116"
      ]
     },
     "execution_count": 204,
     "metadata": {},
     "output_type": "execute_result"
    }
   ],
   "source": [
    "# looking at the R^2 value to see how well my linear model firts the data\n",
    "model.score(X_test, y_test)"
   ]
  },
  {
   "cell_type": "code",
   "execution_count": 205,
   "metadata": {},
   "outputs": [
    {
     "data": {
      "text/plain": [
       "6.206871340488391"
      ]
     },
     "execution_count": 205,
     "metadata": {},
     "output_type": "execute_result"
    }
   ],
   "source": [
    "# looking at the root mean squared error\n",
    "np.mean((model.predict(X_test)-y_test)**2)**0.5"
   ]
  },
  {
   "cell_type": "markdown",
   "metadata": {},
   "source": [
    "We have copied over the graphs that visualize the model's performance on the training and testing set. \n",
    "\n",
    "Change `col_name` and modify the call to `plt.ylabel()` to isolate how a single predictor affects the model."
   ]
  },
  {
   "cell_type": "code",
   "execution_count": 206,
   "metadata": {},
   "outputs": [
    {
     "data": {
      "text/plain": [
       "Text(0.5, 1.0, 'Model Behavior On Training Set')"
      ]
     },
     "execution_count": 206,
     "metadata": {},
     "output_type": "execute_result"
    },
    {
     "data": {
      "image/png": "[encoded data removed]",
      "text/plain": [
       "<Figure size 1200x600 with 1 Axes>"
      ]
     },
     "metadata": {},
     "output_type": "display_data"
    }
   ],
   "source": [
    "col_name = 'TOTAL_EXPENDITURE_PER_STUDENT'\n",
    "\n",
    "f = plt.figure(figsize=(12,6))\n",
    "plt.scatter(X_train[col_name], y_train, color = \"red\")\n",
    "plt.scatter(X_train[col_name], model.predict(X_train), color = \"green\")\n",
    "\n",
    "plt.legend(['True Training','Predicted Training'])\n",
    "plt.xlabel(col_name)\n",
    "plt.ylabel('Total Expenditure per Student')\n",
    "plt.title(\"Model Behavior On Training Set\")"
   ]
  },
  {
   "cell_type": "code",
   "execution_count": 209,
   "metadata": {},
   "outputs": [
    {
     "data": {
      "text/plain": [
       "Text(0.5, 1.0, 'Model Behavior on Testing Set')"
      ]
     },
     "execution_count": 209,
     "metadata": {},
     "output_type": "execute_result"
    },
    {
     "data": {
      "image/png": "[encoded data removed]",
      "text/plain": [
       "<Figure size 1200x600 with 1 Axes>"
      ]
     },
     "metadata": {},
     "output_type": "display_data"
    }
   ],
   "source": [
    "col_name = \"TOTAL_REVENUE_PER_STUDENT\"\n",
    "\n",
    "f = plt.figure(figsize=(12,6))\n",
    "plt.scatter(X_test[col_name], y_test, color = \"blue\")\n",
    "plt.scatter(X_test[col_name], model.predict(X_test), color = \"black\")\n",
    "\n",
    "plt.legend(['True testing','Predicted testing'])\n",
    "plt.xlabel(col_name)\n",
    "plt.ylabel('Total revenue per student')\n",
    "plt.title(\"Model Behavior on Testing Set\")"
   ]
  },
  {
   "cell_type": "markdown",
   "metadata": {},
   "source": [
    "<h2> Summary </h2>"
   ]
  },
  {
   "cell_type": "markdown",
   "metadata": {},
   "source": [
    "**<WRITE A PARAGRAPH SUMMARIZING YOUR WORK, FINDINGS, AND THE PERFORMANCE OF YOUR MODEL\\>**\n",
    "In this checkpoint, I cleaned and manipulated data to see if I could find a way to predict average fourth grade math scores. I used the sklearn class's implementation of linear regression to do so. The model I created was not very functional; the r^2 value and the root mean squared error were far from ideal. I believe that they were as bad as they were because of the proportionately vast number of missing values I replaced with the median. From both \"Model Behavior on Testing Set\" graphs, it is evident that I replaced a lot of missing values in the original data and that final predictive model was more influenced by the artificial values than the original values that existed in the original data set. Though my model did not perform well, I predict that total expenditure per student and total revenue per student are still fair ways of predicting average fourth grade math scores based on the general trend of points that did not have a average 4th grade math score of around 237 on the visualizations."
   ]
  }
 ],
 "metadata": {
  "kernelspec": {
   "display_name": "Python 3 (ipykernel)",
   "language": "python",
   "name": "python3"
  },
  "language_info": {
   "codemirror_mode": {
    "name": "ipython",
    "version": 3
   },
   "file_extension": ".py",
   "mimetype": "text/x-python",
   "name": "python",
   "nbconvert_exporter": "python",
   "pygments_lexer": "ipython3",
   "version": "3.10.4"
  },
  "vscode": {
   "interpreter": {
    "hash": "6cf8df3ff69f85f626faf55c10df6fe2cb9d1236b4dc73844ee4dc01369c2c99"
   }
  }
 },
 "nbformat": 4,
 "nbformat_minor": 4
}
